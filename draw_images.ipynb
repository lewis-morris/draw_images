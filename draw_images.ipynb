{
 "cells": [
  {
   "cell_type": "code",
   "execution_count": 1,
   "metadata": {},
   "outputs": [],
   "source": [
    "import pyautogui\n",
    "import cv2\n",
    "from pynput.mouse import Button, Controller\n",
    "import numpy as np\n",
    "from sklearn.cluster import KMeans\n",
    "from sklearn.metrics import pairwise_distances_argmin\n",
    "from sklearn.utils import shuffle\n",
    "import cv2\n",
    "from PIL import Image \n",
    "\n",
    "\n",
    "mouse = Controller()"
   ]
  },
  {
   "cell_type": "code",
   "execution_count": 2,
   "metadata": {},
   "outputs": [],
   "source": [
    "def get_locations():\n",
    "    locations = {}\n",
    "    messages = [\"Put your mouse on the upper left of the canvas\",\"Put your mouse on the bottom right of the canvas\", \"Hover the colour palette\", \"Hover the hex colour box (after the # if there is one)\", \"Hover the ok box\",\"new layer button\"]\n",
    "    ans = \"n\"\n",
    "    for i,x in enumerate(messages):\n",
    "        print(x)\n",
    "        ans = \"n\"\n",
    "        while ans == \"n\":\n",
    "            ans = input(\"Leave mouse in correct position. Are you ready? y/n\")\n",
    "    \n",
    "        locations[i] = pyautogui.position()\n",
    "        \n",
    "    x_size = locations[1][0] - locations[0][0]\n",
    "    y_size = locations[1][1] - locations[0][1]\n",
    "    \n",
    "    return locations, x_size, y_size\n",
    "    \n",
    "    "
   ]
  },
  {
   "cell_type": "code",
   "execution_count": 3,
   "metadata": {},
   "outputs": [],
   "source": [
    "def recreate_image(codebook, labels, w, h):\n",
    "    \"\"\"Recreate the (compressed) image from the code book & labels\"\"\"\n",
    "    d = codebook.shape[1]\n",
    "    image = np.zeros((w, h, d))\n",
    "    label_idx = 0\n",
    "    for i in range(w):\n",
    "        for j in range(h):\n",
    "            image[i][j] = codebook[labels[label_idx]]\n",
    "            label_idx += 1\n",
    "    return image\n",
    "\n"
   ]
  },
  {
   "cell_type": "code",
   "execution_count": 4,
   "metadata": {},
   "outputs": [],
   "source": [
    "def reduce_image(img_path,n_colors=32):\n",
    "    base_img = cv2.imread(img_path)\n",
    "    h,w,_ = base_img.shape\n",
    "    ratio = h/w\n",
    "    base_img_resized = cv2.resize(base_img,(int(y_size/ratio),int(y_size)))    \n",
    "    base_img_resized = np.array(base_img_resized, dtype=np.float64) / 255\n",
    "    w, h, d = original_shape = tuple(base_img_resized.shape)\n",
    "    assert d == 3\n",
    "    image_array = np.reshape(base_img_resized, (w * h, d))\n",
    "    image_array_sample = shuffle(image_array, random_state=0)[:1000]\n",
    "    kmeans = KMeans(n_clusters=n_colors, random_state=0).fit(image_array_sample)\n",
    "    labels = kmeans.predict(image_array)\n",
    "    codebook_random = shuffle(image_array, random_state=0)[:n_colors]\n",
    "    labels_random = pairwise_distances_argmin(codebook_random,\n",
    "                                              image_array,\n",
    "                                              axis=0)\n",
    "\n",
    "    img = recreate_image(kmeans.cluster_centers_, labels, w, h)\n",
    "    img_new = cv2.cvtColor((img*255).astype(np.uint8),cv2.COLOR_RGB2BGR)\n",
    "    return img_new"
   ]
  },
  {
   "cell_type": "code",
   "execution_count": 5,
   "metadata": {},
   "outputs": [],
   "source": [
    "def get_hex(r, g, b):\n",
    "    return '#%02x%02x%02x' % (r, g, b)"
   ]
  },
  {
   "cell_type": "code",
   "execution_count": 6,
   "metadata": {},
   "outputs": [],
   "source": [
    "def get_hex_keys(img):\n",
    "    unique_keys = {}\n",
    "\n",
    "    for y in img_new:\n",
    "        for x in y:\n",
    "            hexx = get_hex(x[0],x[1],x[2])\n",
    "            if not hexx in unique_keys.keys():\n",
    "                unique_keys[hexx] = hexx\n",
    "    return unique_keys"
   ]
  },
  {
   "cell_type": "code",
   "execution_count": 7,
   "metadata": {},
   "outputs": [],
   "source": [
    "def change_colour(new_hex):\n",
    "    #move to palette\n",
    "    pyautogui.sleep(1)\n",
    "    pyautogui.click(locations[2][0], locations[2][1])\n",
    "    pyautogui.sleep(0.2)\n",
    "    \n",
    "    #click hex box\n",
    "    pyautogui.click(locations[3][0], locations[3][1])\n",
    "    pyautogui.sleep(0.2)\n",
    "    \n",
    "    #delete in box\n",
    "    pyautogui.press('del', presses=8,interval=0.05*sleep_multiplier)\n",
    "    \n",
    "    #write new one \n",
    "    pyautogui.write(new_hex, interval=0.05*sleep_multiplier) \n",
    "    pyautogui.sleep(0.2)\n",
    "    #press enter\n",
    "    #pyautogui.press('return', presses=1,interval=0.05)\n",
    "    #pyautogui.PAUSE = 0.2\n",
    "\n",
    "    #click hex box\n",
    "    pyautogui.click(locations[4][0], locations[4][1])\n",
    "    pyautogui.sleep(0.2*sleep_multiplier)"
   ]
  },
  {
   "cell_type": "code",
   "execution_count": 8,
   "metadata": {},
   "outputs": [],
   "source": [
    "def draw_pos(startX,startY,posX,posY,release=True,only=False):\n",
    "    #move to palette\n",
    "    if release:\n",
    "        mouse.release(Button.left)\n",
    "        pyautogui.sleep(0.008*sleep_multiplier)\n",
    "    \n",
    "    if not only:\n",
    "        mouse.position = (int(startX+posX), int(startY+posY))\n",
    "        pyautogui.sleep(0.0025*sleep_multiplier)\n",
    "    \n",
    "    if release and not only:\n",
    "        mouse.press(Button.left)\n",
    "        pyautogui.sleep(0.008*sleep_multiplier)\n"
   ]
  },
  {
   "cell_type": "code",
   "execution_count": 9,
   "metadata": {},
   "outputs": [],
   "source": [
    "def new_layer():\n",
    "    pyautogui.click(locations[5][0], locations[5][1])\n",
    "    pyautogui.sleep(0.2*sleep_multiplier)\n",
    "    pyautogui.press('return')\n",
    "    pyautogui.sleep(0.5*sleep_multiplier)"
   ]
  },
  {
   "cell_type": "code",
   "execution_count": 10,
   "metadata": {},
   "outputs": [],
   "source": [
    "def draw(img, keys, brush_size=2,perc=1,frm=True,reverse=True,layers=True):    \n",
    "    i = 0\n",
    "    times_draw = 0\n",
    "    sorted_keys = sorted(list(unique_keys.keys()),key=lambda x: int(x.replace(\"#\",\"\"),16),reverse=reverse)\n",
    "    \n",
    "    if frm:\n",
    "        sorted_keys = sorted_keys[:int(len(sorted_keys)*perc)]\n",
    "    else:\n",
    "        sorted_keys = sorted_keys[int(len(sorted_keys)*perc):]\n",
    "        \n",
    "    for col in sorted_keys:\n",
    "        change_colour(col.replace(\"#\",\"\"))\n",
    "        for iy,y in enumerate(img):\n",
    "            for ix,x in enumerate(y):\n",
    "                if times_draw == 0 and col == get_hex(x[0],x[1],x[2]):\n",
    "                    draw_pos(locations[0][0], locations[0][1],ix*brush_size,iy*brush_size,True)\n",
    "                    i += 1   \n",
    "                    times_draw+=1                    \n",
    "                if col == get_hex(x[0],x[1],x[2]) and times_draw >0:\n",
    "                    draw_pos(locations[0][0], locations[0][1],ix*brush_size,iy*brush_size,False)                \n",
    "                else:\n",
    "                    times_draw = 0\n",
    "                    \n",
    "            pyautogui.sleep(0.01*sleep_multiplier)\n",
    "            times_draw=0\n",
    "            draw_pos(None,None,None,None,True,True)    \n",
    "            \n",
    "        pyautogui.sleep(0.5*sleep_multiplier)\n",
    "                    \n",
    "        if layers:            \n",
    "            new_layer()"
   ]
  },
  {
   "cell_type": "code",
   "execution_count": 11,
   "metadata": {},
   "outputs": [],
   "source": [
    "sleep_multiplier = 1.1"
   ]
  },
  {
   "cell_type": "code",
   "execution_count": 12,
   "metadata": {},
   "outputs": [
    {
     "name": "stdout",
     "output_type": "stream",
     "text": [
      "Put your mouse on the upper left of the canvas\n"
     ]
    },
    {
     "name": "stdin",
     "output_type": "stream",
     "text": [
      "Leave mouse in correct position. Are you ready? y/n y\n"
     ]
    },
    {
     "name": "stdout",
     "output_type": "stream",
     "text": [
      "Put your mouse on the bottom right of the canvas\n"
     ]
    },
    {
     "name": "stdin",
     "output_type": "stream",
     "text": [
      "Leave mouse in correct position. Are you ready? y/n y\n"
     ]
    },
    {
     "name": "stdout",
     "output_type": "stream",
     "text": [
      "Hover the colour palette\n"
     ]
    },
    {
     "name": "stdin",
     "output_type": "stream",
     "text": [
      "Leave mouse in correct position. Are you ready? y/n y\n"
     ]
    },
    {
     "name": "stdout",
     "output_type": "stream",
     "text": [
      "Hover the hex colour box (after the # if there is one)\n"
     ]
    },
    {
     "name": "stdin",
     "output_type": "stream",
     "text": [
      "Leave mouse in correct position. Are you ready? y/n y\n"
     ]
    },
    {
     "name": "stdout",
     "output_type": "stream",
     "text": [
      "Hover the ok box\n"
     ]
    },
    {
     "name": "stdin",
     "output_type": "stream",
     "text": [
      "Leave mouse in correct position. Are you ready? y/n y\n"
     ]
    },
    {
     "name": "stdout",
     "output_type": "stream",
     "text": [
      "new layer button\n"
     ]
    },
    {
     "name": "stdin",
     "output_type": "stream",
     "text": [
      "Leave mouse in correct position. Are you ready? y/n y\n"
     ]
    }
   ],
   "source": [
    "locations, x_size, y_size = get_locations()"
   ]
  },
  {
   "cell_type": "code",
   "execution_count": 20,
   "metadata": {},
   "outputs": [],
   "source": [
    "img_new = reduce_image(\"leila.jpg\",16)"
   ]
  },
  {
   "cell_type": "code",
   "execution_count": 21,
   "metadata": {},
   "outputs": [
    {
     "data": {
      "image/png": "[encoded data removed]",
      "text/plain": [
       "<PIL.Image.Image image mode=RGB size=176x462 at 0x7F8533482510>"
      ]
     },
     "execution_count": 21,
     "metadata": {},
     "output_type": "execute_result"
    }
   ],
   "source": [
    "Image.fromarray(img_new)"
   ]
  },
  {
   "cell_type": "code",
   "execution_count": 22,
   "metadata": {},
   "outputs": [],
   "source": [
    "unique_keys = get_hex_keys(img_new)"
   ]
  },
  {
   "cell_type": "code",
   "execution_count": 23,
   "metadata": {},
   "outputs": [],
   "source": [
    "draw(img_new,unique_keys,2,reverse=False)"
   ]
  },
  {
   "cell_type": "code",
   "execution_count": null,
   "metadata": {},
   "outputs": [],
   "source": [
    "draw(img_new,unique_keys,2,.92,frm=False)"
   ]
  },
  {
   "cell_type": "code",
   "execution_count": null,
   "metadata": {},
   "outputs": [],
   "source": []
  }
 ],
 "metadata": {
  "kernelspec": {
   "display_name": "Python 3",
   "language": "python",
   "name": "python3"
  },
  "language_info": {
   "codemirror_mode": {
    "name": "ipython",
    "version": 3
   },
   "file_extension": ".py",
   "mimetype": "text/x-python",
   "name": "python",
   "nbconvert_exporter": "python",
   "pygments_lexer": "ipython3",
   "version": "3.7.7"
  }
 },
 "nbformat": 4,
 "nbformat_minor": 4
}
